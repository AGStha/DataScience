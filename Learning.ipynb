{
 "cells": [
  {
   "cell_type": "code",
   "execution_count": 25,
   "metadata": {},
   "outputs": [
    {
     "name": "stdout",
     "output_type": "stream",
     "text": [
      "hello\n"
     ]
    }
   ],
   "source": [
    "#Simple hello world program to input data from user\n",
    "\n",
    "a='hello'\n",
    "print (a)"
   ]
  },
  {
   "cell_type": "code",
   "execution_count": 10,
   "metadata": {},
   "outputs": [
    {
     "name": "stdout",
     "output_type": "stream",
     "text": [
      "What is your age? 10\n",
      "Your age is:  10\n"
     ]
    },
    {
     "data": {
      "text/plain": [
       "str"
      ]
     },
     "execution_count": 10,
     "metadata": {},
     "output_type": "execute_result"
    }
   ],
   "source": [
    "age = input(\"What is your age? \")\n",
    "print (\"Your age is: \", age)\n",
    "type(age)"
   ]
  },
  {
   "cell_type": "code",
   "execution_count": 12,
   "metadata": {},
   "outputs": [
    {
     "name": "stdout",
     "output_type": "stream",
     "text": [
      "Enter your name: anuj\n",
      "Hello anuj\n"
     ]
    }
   ],
   "source": [
    "person = input('Enter your name: ')\n",
    "print('Hello', person)"
   ]
  },
  {
   "cell_type": "code",
   "execution_count": 14,
   "metadata": {},
   "outputs": [
    {
     "name": "stdout",
     "output_type": "stream",
     "text": [
      "Enter the applicant's name: anuj\n",
      "Enter the interviewer's name: ram\n",
      "Enter the appointment time: 10:30\n",
      "ram will interview anuj at 10:30\n"
     ]
    }
   ],
   "source": [
    "applicant = input(\"Enter the applicant's name: \")\n",
    "interviewer = input(\"Enter the interviewer's name: \")\n",
    "time = input(\"Enter the appointment time: \")\n",
    "print(interviewer, \"will interview\", applicant, \"at\", time)"
   ]
  },
  {
   "cell_type": "code",
   "execution_count": 17,
   "metadata": {},
   "outputs": [
    {
     "name": "stdout",
     "output_type": "stream",
     "text": [
      "Enter your name: a n u j\n",
      "Hello a n u j!\n"
     ]
    }
   ],
   "source": [
    "\n",
    "person = input('Enter your name: ')\n",
    "print('Hello ', person, '!', sep='')"
   ]
  },
  {
   "cell_type": "code",
   "execution_count": 18,
   "metadata": {},
   "outputs": [
    {
     "name": "stdout",
     "output_type": "stream",
     "text": [
      "Enter a number: 1\n",
      "Enter a second number: 2\n",
      "The sum of 1 and 2 is 12.\n"
     ]
    }
   ],
   "source": [
    "x = input(\"Enter a number: \")\n",
    "y = input(\"Enter a second number: \")\n",
    "print('The sum of ', x, ' and ', y, ' is ', x+y, '.', sep='') #error"
   ]
  },
  {
   "cell_type": "code",
   "execution_count": 19,
   "metadata": {},
   "outputs": [
    {
     "name": "stdout",
     "output_type": "stream",
     "text": [
      "Enter a number: 10\n",
      "Enter a second number: 20\n",
      "The sum of 10 and 20 is 30.\n"
     ]
    }
   ],
   "source": [
    "\n",
    "xString = input(\"Enter a number: \")\n",
    "x = int(xString)\n",
    "yString = input(\"Enter a second number: \")\n",
    "y = int(yString)\n",
    "print('The sum of ', x, ' and ', y, ' is ', x+y, '.', sep='')"
   ]
  },
  {
   "cell_type": "code",
   "execution_count": 24,
   "metadata": {},
   "outputs": [
    {
     "name": "stdout",
     "output_type": "stream",
     "text": [
      "Enter your no.2\n",
      "Enter second2\n",
      "THE SUM OF 2 and 2 is 4.\n"
     ]
    },
    {
     "data": {
      "text/plain": [
       "int"
      ]
     },
     "execution_count": 24,
     "metadata": {},
     "output_type": "execute_result"
    }
   ],
   "source": [
    "a=int(input(\"Enter your no.\"))\n",
    "y=int(input(\"Enter second\"))\n",
    "print('THE SUM OF ',a,' and ',y,' is ',a+y,'.',sep='')\n",
    "type(a)\n",
    "type(y)"
   ]
  },
  {
   "cell_type": "code",
   "execution_count": 26,
   "metadata": {},
   "outputs": [
    {
     "name": "stdout",
     "output_type": "stream",
     "text": [
      "Enter an integer: 10\n",
      "Enter another integer: 02\n",
      "The sum of 10 and 2 is 12.\n"
     ]
    }
   ],
   "source": [
    "x= int(input(\"Enter an integer: \"))\n",
    "y = int(input(\"Enter another integer: \"))\n",
    "sum = x+y\n",
    "print('The sum of ', x, ' and ', y, ' is ', sum, '.', sep='')"
   ]
  },
  {
   "cell_type": "code",
   "execution_count": 27,
   "metadata": {},
   "outputs": [
    {
     "name": "stdout",
     "output_type": "stream",
     "text": [
      "Enter your name: anuj\n",
      "Hello, anuj!\n"
     ]
    }
   ],
   "source": [
    "person = input('Enter your name: ')\n",
    "greeting = 'Hello, {}!'.format(person)\n",
    "print(greeting)"
   ]
  },
  {
   "cell_type": "code",
   "execution_count": 28,
   "metadata": {},
   "outputs": [
    {
     "name": "stdout",
     "output_type": "stream",
     "text": [
      "Enter an integer: 10\n",
      "Enter another integer: 20\n",
      "10 + 20 = 30; 10 * 20 = 200.\n"
     ]
    }
   ],
   "source": [
    "x = int(input('Enter an integer: '))\n",
    "y = int(input('Enter another integer: '))\n",
    "formatStr = '{0} + {1} = {2}; {0} * {1} = {3}.'\n",
    "equations = formatStr.format(x, y, x+y, x*y)\n",
    "print(equations)"
   ]
  },
  {
   "cell_type": "code",
   "execution_count": 29,
   "metadata": {},
   "outputs": [],
   "source": [
    "#hangman game\n"
   ]
  },
  {
   "cell_type": "code",
   "execution_count": 46,
   "metadata": {},
   "outputs": [
    {
     "name": "stdout",
     "output_type": "stream",
     "text": [
      "What is your name? anuj\n",
      "Hello, anuj Time to play hangman!\n",
      "\n",
      "Start guessing...\n",
      "_\n",
      "_\n",
      "_\n",
      "_\n",
      "_\n",
      "_\n",
      "guess a character:hello\n",
      "Wrong\n",
      "You have 9 more guesses\n",
      "_\n",
      "e\n",
      "_\n",
      "_\n",
      "e\n",
      "_\n",
      "guess a character:h\n",
      "Wrong\n",
      "You have 8 more guesses\n",
      "_\n",
      "e\n",
      "_\n",
      "_\n",
      "e\n",
      "_\n",
      "guess a character:a\n",
      "Wrong\n",
      "You have 7 more guesses\n",
      "_\n",
      "e\n",
      "_\n",
      "_\n",
      "e\n",
      "_\n",
      "guess a character:s\n",
      "s\n",
      "e\n",
      "_\n",
      "_\n",
      "e\n",
      "_\n",
      "guess a character:k\n",
      "Wrong\n",
      "You have 6 more guesses\n",
      "s\n",
      "e\n",
      "_\n",
      "_\n",
      "e\n",
      "_\n",
      "guess a character:l\n",
      "Wrong\n",
      "You have 5 more guesses\n",
      "s\n",
      "e\n",
      "_\n",
      "_\n",
      "e\n",
      "_\n",
      "guess a character:k\n",
      "Wrong\n",
      "You have 4 more guesses\n",
      "s\n",
      "e\n",
      "_\n",
      "_\n",
      "e\n",
      "_\n",
      "guess a character:a\n",
      "Wrong\n",
      "You have 3 more guesses\n",
      "s\n",
      "e\n",
      "_\n",
      "_\n",
      "e\n",
      "_\n",
      "guess a character:c\n",
      "s\n",
      "e\n",
      "c\n",
      "_\n",
      "e\n",
      "_\n",
      "guess a character:r\n",
      "s\n",
      "e\n",
      "c\n",
      "r\n",
      "e\n",
      "_\n",
      "guess a character:t\n",
      "s\n",
      "e\n",
      "c\n",
      "r\n",
      "e\n",
      "t\n",
      "You won\n"
     ]
    }
   ],
   "source": [
    "#importing the time module\n",
    "import time\n",
    "\n",
    "#welcoming the user\n",
    "name = input(\"What is your name? \")\n",
    "\n",
    "print (\"Hello, \" + name, \"Time to play hangman!\")\n",
    "\n",
    "print (\"\")\n",
    "\n",
    "#wait for 1 second\n",
    "time.sleep(1)\n",
    "\n",
    "print (\"Start guessing...\")\n",
    "time.sleep(0.5)\n",
    "\n",
    "#here we set the secret\n",
    "word = (\"secret\")\n",
    "\n",
    "#creates an variable with an empty value\n",
    "guesses = ''\n",
    "\n",
    "#determine the number of turns\n",
    "turns = 10\n",
    "\n",
    "# Create a while loop\n",
    "\n",
    "#check if the turns are more than zero\n",
    "while turns > 0:         \n",
    "\n",
    "    # make a counter that starts with zero\n",
    "    failed = 0             \n",
    "\n",
    "    # for every character in secret_word    \n",
    "    for char in word:      \n",
    "\n",
    "    # see if the character is in the players guess\n",
    "        if char in guesses:    \n",
    "    \n",
    "        # print then out the character\n",
    "            print (char)    \n",
    "\n",
    "        else:\n",
    "    \n",
    "        # if not found, print a dash\n",
    "            print (\"_\")\n",
    "       \n",
    "        # and increase the failed counter with one\n",
    "            failed += 1    \n",
    "\n",
    "    # if failed is equal to zero\n",
    "\n",
    "    # print You Won\n",
    "    if failed == 0:        \n",
    "        print (\"You won\")  \n",
    "\n",
    "    # exit the script\n",
    "        break              \n",
    "\n",
    "    print\n",
    "    # ask the user go guess a character\n",
    "    guess = input(\"guess a character:\") \n",
    "\n",
    "    # set the players guess to guesses\n",
    "    guesses += guess                    \n",
    "\n",
    "    # if the guess is not found in the secret word\n",
    "    if guess not in word:  \n",
    " \n",
    "     # turns counter decreases with 1 (now 9)\n",
    "        turns -= 1        \n",
    " \n",
    "    # print wrong\n",
    "        print (\"Wrong\")    \n",
    " \n",
    "    # how many turns are left\n",
    "        print (\"You have\", + turns, 'more guesses')\n",
    " \n",
    "    # if the turns are equal to zero\n",
    "        if turns == 0:           \n",
    "    \n",
    "        # print \"You Loose\"\n",
    "            print (\"You Loose\"  )"
   ]
  },
  {
   "cell_type": "code",
   "execution_count": 48,
   "metadata": {},
   "outputs": [
    {
     "name": "stdout",
     "output_type": "stream",
     "text": [
      "Tell me an adjective, and click enter. cool\n",
      "Tell me a noun (plural), and click enter. hari\n",
      "Tell me another noun, and click enter. nepal\n",
      "Tell me an another adjective, and click enter. best\n",
      "Roses are cool\n",
      "hari are blue\n",
      "nepal is best\n",
      "And so are you!\n"
     ]
    }
   ],
   "source": [
    "adjective1 = input(\"Tell me an adjective, and click enter. \")\n",
    "noun1 = input(\"Tell me a noun (plural), and click enter. \")\n",
    "noun2 = input(\"Tell me another noun, and click enter. \")\n",
    "adjective2 = input(\"Tell me an another adjective, and click enter. \")\n",
    "\n",
    "print (\"Roses are \" + adjective1)\n",
    "print (noun1 + \" are blue\")\n",
    "print (noun2 + \" is \" + adjective2)\n",
    "print (\"And so are you!\")"
   ]
  },
  {
   "cell_type": "code",
   "execution_count": 49,
   "metadata": {},
   "outputs": [
    {
     "name": "stdout",
     "output_type": "stream",
     "text": [
      "Road Trip Mad Lib\n",
      "When the program asks you, please enter the appropriate word.\n",
      "There are 21 blanks in this Mad Lib. \n",
      "Adjective> best\n",
      "Place> nepal\n",
      "Adjective> cool\n",
      "Adjective> beautiful\n",
      "Noun, plural> Players\n",
      "Noun, plural> Gorkhalis\n",
      "Noun> Sherpas\n",
      "Verb> live\n",
      "Noun> kathmandu\n",
      "Verb> plays\n",
      "Action verb> reads\n",
      "Noun, plural> pools\n",
      "Noun> imagination\n",
      "Verb that ends in ing> doing\n",
      "Noun> stone\n",
      "Measurement of time> second\n",
      "Adjective> hatred\n",
      "Action verb> climb\n",
      "Verb> read\n",
      "Adjective> black\n",
      "Noun, something you can own> book\n",
      "On the best trip to nepal, my cool friend and I decided to invent a game. Since this would be a rather beautiful trip, it would need to be a game with Players and Gorkhalis. Using our Sherpas to live, we tried to get the kathmandu next to us to play too, but they just playsed at us and reads away. After a few rounds, we thought the game could use some pools, so we turned on the imagination and started doing to the stone that came on. This lasted for second before I got hatred and decided to climb. I'll never read that trip, it was the black road trip of my book.\n",
      "Pretty funny, right? [y/n] y\n",
      "Thanks!\n",
      "\n",
      "==========\n",
      "Mad Lib sourced from http://marcelkupka.cz/wp-content/uploads/2013/03/mad.jpg\n"
     ]
    }
   ],
   "source": [
    "# Our Mad Lib\n",
    "madlib = \"On the %s trip to %s, my %s friend and I decided to invent a game. Since this would be a rather %s trip, it would need to be a game with %s and %s. Using our %s to %s, we tried to get the %s next to us to play too, but they just %sed at us and %s away. After a few rounds, we thought the game could use some %s, so we turned on the %s and started %s to the %s that came on. This lasted for %s before I got %s and decided to %s. I'll never %s that trip, it was the %s road trip of my %s.\"\n",
    "sourceURL = \"http://marcelkupka.cz/wp-content/uploads/2013/03/mad.jpg\"\n",
    "# A list storing the blanks for the Mad Lib\n",
    "blanks = [\n",
    "    {\"suggestion\": \"adjective\", \"ans\": \"\"},\n",
    "    {\"suggestion\": \"place\", \"ans\": \"\"},\n",
    "    {\"suggestion\": \"adjective\", \"ans\": \"\"},\n",
    "    {\"suggestion\": \"adjective\", \"ans\": \"\"},\n",
    "    {\"suggestion\": \"noun, plural\", \"ans\": \"\"},\n",
    "    {\"suggestion\": \"noun, plural\", \"ans\": \"\"},\n",
    "    {\"suggestion\": \"noun\", \"ans\": \"\"},\n",
    "    {\"suggestion\": \"verb\", \"ans\": \"\"},\n",
    "    {\"suggestion\": \"noun\", \"ans\": \"\"},\n",
    "    {\"suggestion\": \"verb\", \"ans\": \"\"},\n",
    "    {\"suggestion\": \"action verb\", \"ans\": \"\"},\n",
    "    {\"suggestion\": \"noun, plural\", \"ans\": \"\"},\n",
    "    {\"suggestion\": \"noun\", \"ans\": \"\"},\n",
    "    {\"suggestion\": \"verb that ends in ing\", \"ans\": \"\"},\n",
    "    {\"suggestion\": \"noun\", \"ans\": \"\"},\n",
    "    {\"suggestion\": \"measurement of time\", \"ans\": \"\"},\n",
    "    {\"suggestion\": \"adjective\", \"ans\": \"\"},\n",
    "    {\"suggestion\": \"action verb\", \"ans\": \"\"},\n",
    "    {\"suggestion\": \"verb\", \"ans\": \"\"},\n",
    "    {\"suggestion\": \"adjective\", \"ans\": \"\"},\n",
    "    {\"suggestion\": \"noun, something you can own\", \"ans\": \"\"}\n",
    "]\n",
    "print(\"Road Trip Mad Lib\\nWhen the program asks you, please enter the appropriate word.\")\n",
    "print(\"There are %i blanks in this Mad Lib. \" % (len(blanks)))\n",
    "# Ask the user for each one\n",
    "for blank in blanks:\n",
    "    ans = input(blank['suggestion'].capitalize() + \"> \")\n",
    "    if len(ans) == 0:\n",
    "        print(\"Please don't leave anything blank. It kills the experience.\")\n",
    "        quit()\n",
    "    blank['ans'] = ans\n",
    "# The list that stores the format string\n",
    "fs = []\n",
    "# Get the answers from the blanks list\n",
    "for dictionary in blanks:\n",
    "    fs.append(dictionary['ans'])\n",
    "\n",
    "# Print the formatted Mad Lib\n",
    "print(madlib % tuple(fs))\n",
    "feedback = input(\"Pretty funny, right? [y/n] \")\n",
    "if feedback == \"y\":\n",
    "    print(\"Thanks!\")\n",
    "else:\n",
    "    print(\":( Sorry. I'll try better next time.\")\n",
    "print(\"\\n\" + \"=\"*10 + \"\\nMad Lib sourced from \" + sourceURL)"
   ]
  },
  {
   "cell_type": "code",
   "execution_count": 56,
   "metadata": {},
   "outputs": [
    {
     "ename": "IndentationError",
     "evalue": "expected an indented block (<ipython-input-56-311f8396c978>, line 8)",
     "output_type": "error",
     "traceback": [
      "\u001b[0;36m  File \u001b[0;32m\"<ipython-input-56-311f8396c978>\"\u001b[0;36m, line \u001b[0;32m8\u001b[0m\n\u001b[0;31m    print('Take a guess.') # There are four spaces in front of print.\u001b[0m\n\u001b[0m        ^\u001b[0m\n\u001b[0;31mIndentationError\u001b[0m\u001b[0;31m:\u001b[0m expected an indented block\n"
     ]
    }
   ],
   "source": []
  },
  {
   "cell_type": "code",
   "execution_count": 65,
   "metadata": {},
   "outputs": [
    {
     "name": "stdout",
     "output_type": "stream",
     "text": [
      "Enter an integer from 1 to 99: 55\n",
      "guess is high\n",
      "Enter an integer from 1 to 99: 44\n",
      "guess is high\n",
      "Enter an integer from 1 to 99: 20\n",
      "guess is high\n",
      "Enter an integer from 1 to 99: 12\n",
      "guess is low\n",
      "Enter an integer from 1 to 99: 15\n",
      "guess is low\n",
      "Enter an integer from 1 to 99: 16\n",
      "guess is low\n",
      "Enter an integer from 1 to 99: 18\n",
      "guess is high\n",
      "Enter an integer from 1 to 99: 19\n",
      "guess is high\n",
      "Enter an integer from 1 to 99: 20\n",
      "guess is high\n",
      "Enter an integer from 1 to 99: 18\n",
      "guess is high\n",
      "Enter an integer from 1 to 99: 17\n",
      "you guessed it!\n"
     ]
    }
   ],
   "source": [
    "#guesss the number\n",
    "\n",
    "import random\n",
    "n = random.randint(1, 99)\n",
    "guess = int(input(\"Enter an integer from 1 to 99: \"))\n",
    "while n != \"guess\":\n",
    "    print\n",
    "    if guess < n:\n",
    "        print (\"guess is low\")\n",
    "        guess = int(input(\"Enter an integer from 1 to 99: \"))\n",
    "    elif guess > n:\n",
    "        print (\"guess is high\")\n",
    "        guess = int(input(\"Enter an integer from 1 to 99: \"))\n",
    "    else:\n",
    "        print (\"you guessed it!\")\n",
    "        break\n",
    "    print"
   ]
  },
  {
   "cell_type": "code",
   "execution_count": 73,
   "metadata": {},
   "outputs": [
    {
     "name": "stdout",
     "output_type": "stream",
     "text": [
      "Rolling the dices...\n",
      "The values are....\n",
      "4\n",
      "1\n",
      "Roll the dices again?y\n",
      "Rolling the dices...\n",
      "The values are....\n",
      "1\n",
      "3\n",
      "Roll the dices again?y\n",
      "Rolling the dices...\n",
      "The values are....\n",
      "4\n",
      "5\n",
      "Roll the dices again?\n"
     ]
    }
   ],
   "source": [
    "import random\n",
    "min = 1\n",
    "max = 6\n",
    "\n",
    "roll_again = \"yes\"\n",
    "\n",
    "while roll_again == \"yes\" or roll_again == \"y\":\n",
    "    print (\"Rolling the dices...\")\n",
    "    print (\"The values are....\")\n",
    "    print (random.randint(min, max))\n",
    "    print (random.randint(min, max))\n",
    "\n",
    "    roll_again = input(\"Roll the dices again?\")"
   ]
  },
  {
   "cell_type": "code",
   "execution_count": null,
   "metadata": {},
   "outputs": [],
   "source": [
    "from random import randint\n",
    " \n",
    "#create a list of play options\n",
    "t = [\"Rock\", \"Paper\", \"Scissors\"]\n",
    " \n",
    "#assign a random play to the computer\n",
    "computer = t[randint(0,2)]\n",
    " \n",
    "#set player to False\n",
    "player = False\n",
    " \n",
    "while player == False:\n",
    "#set player to True\n",
    "    player = input(\"Rock, Paper, Scissors?\")\n",
    "    if player == computer:\n",
    "        print(\"Tie!\")\n",
    "    elif player == \"Rock\":\n",
    "        if computer == \"Paper\":\n",
    "            print(\"You lose!\", computer, \"covers\", player)\n",
    "        else:\n",
    "            print(\"You win!\", player, \"smashes\", computer)\n",
    "    elif player == \"Paper\":\n",
    "        if computer == \"Scissors\":\n",
    "            print(\"You lose!\", computer, \"cut\", player)\n",
    "        else:\n",
    "            print(\"You win!\", player, \"covers\", computer)\n",
    "    elif player == \"Scissors\":\n",
    "        if computer == \"Rock\":\n",
    "            print(\"You lose...\", computer, \"smashes\", player)\n",
    "        else:\n",
    "            print(\"You win!\", player, \"cut\", computer)\n",
    "    else:\n",
    "        print(\"That's not a valid play. Check your spelling!\")\n",
    "    #player was set to True, but we want it to be False so the loop continues\n",
    "    player = False\n",
    "    computer = t[randint(0,2)]"
   ]
  },
  {
   "cell_type": "code",
   "execution_count": 4,
   "metadata": {},
   "outputs": [],
   "source": [
    "#python class\n",
    "class Employee:\n",
    "   'Common base class for all employees'\n",
    "   empCount = 0\n",
    "\n",
    "   def __init__(self, name, salary):\n",
    "      self.name = name\n",
    "      self.salary = salary\n",
    "      Employee.empCount += 1\n",
    "   \n",
    "   def displayCount(self):\n",
    "     print (\"Total Employee %d\" % Employee.empCount)\n",
    "\n",
    "   def displayEmployee(self):\n",
    "      print (\"Name : \", self.name,  \", Salary: \", self.salary)"
   ]
  },
  {
   "cell_type": "code",
   "execution_count": null,
   "metadata": {},
   "outputs": [],
   "source": []
  }
 ],
 "metadata": {
  "kernelspec": {
   "display_name": "Python 3",
   "language": "python",
   "name": "python3"
  },
  "language_info": {
   "codemirror_mode": {
    "name": "ipython",
    "version": 3
   },
   "file_extension": ".py",
   "mimetype": "text/x-python",
   "name": "python",
   "nbconvert_exporter": "python",
   "pygments_lexer": "ipython3",
   "version": "3.6.5"
  }
 },
 "nbformat": 4,
 "nbformat_minor": 2
}
